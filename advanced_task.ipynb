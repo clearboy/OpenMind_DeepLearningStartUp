from sympy import *
x = Symbol('x')
init_printing()
y = diff('x*sin(x**2)')
print(y)
